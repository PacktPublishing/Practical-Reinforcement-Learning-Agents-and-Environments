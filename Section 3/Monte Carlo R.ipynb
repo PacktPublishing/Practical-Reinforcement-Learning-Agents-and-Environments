{
 "cells": [
  {
   "cell_type": "markdown",
   "metadata": {},
   "source": [
    "**Goal of Environment:** \"A car is on a one-dimensional track, positioned between two \"mountains\". The goal is to drive up the mountain on the right; however, the car's engine is not strong enough to scale the mountain in a single pass. Therefore, the only way to succeed is to drive back and forth to build up momentum.\"  \n",
    "**Reference:** https://gym.openai.com/envs/MountainCar-v0/"
   ]
  },
  {
   "cell_type": "code",
   "execution_count": 8,
   "metadata": {
    "collapsed": true
   },
   "outputs": [],
   "source": [
    "#start server in terminal with $python gym_http_server.py\n",
    "#install.packages(\"gym\")\n",
    "library(gym)"
   ]
  },
  {
   "cell_type": "code",
   "execution_count": 9,
   "metadata": {},
   "outputs": [
    {
     "name": "stdout",
     "output_type": "stream",
     "text": [
      "<GymClient: http://127.0.0.1:5000>\n"
     ]
    }
   ],
   "source": [
    "#start server in terminal with $python gym_http_server.py\n",
    "remote_base <- \"http://127.0.0.1:5000\"\n",
    "client <- create_GymClient(remote_base)\n",
    "print(client)"
   ]
  },
  {
   "cell_type": "code",
   "execution_count": 10,
   "metadata": {
    "collapsed": true
   },
   "outputs": [],
   "source": [
    "#create environment \n",
    "env_name <- \"MountainCar-v0\""
   ]
  },
  {
   "cell_type": "code",
   "execution_count": 11,
   "metadata": {},
   "outputs": [
    {
     "name": "stdout",
     "output_type": "stream",
     "text": [
      "[1] \"75fdd292\"\n"
     ]
    }
   ],
   "source": [
    "#create instance\n",
    "instance_id <- env_create(client, env_name)\n",
    "print(instance_id)"
   ]
  },
  {
   "cell_type": "code",
   "execution_count": 12,
   "metadata": {},
   "outputs": [
    {
     "name": "stdout",
     "output_type": "stream",
     "text": [
      "$`75fdd292`\n",
      "[1] \"MountainCar-v0\"\n",
      "\n",
      "$`9e841f1d`\n",
      "[1] \"MountainCar-v0\"\n",
      "\n"
     ]
    }
   ],
   "source": [
    "#list the environments\n",
    "list_envs <- env_list_all(client)\n",
    "print(list_envs)"
   ]
  },
  {
   "cell_type": "code",
   "execution_count": 13,
   "metadata": {},
   "outputs": [
    {
     "name": "stdout",
     "output_type": "stream",
     "text": [
      "$n\n",
      "[1] 3\n",
      "\n",
      "$name\n",
      "[1] \"Discrete\"\n",
      "\n"
     ]
    }
   ],
   "source": [
    "#set up your agent\n",
    "action_space_info <- env_action_space_info(client, instance_id)\n",
    "print(action_space_info)\n",
    "agent <- random_discrete_agent(action_space_info)\n",
    "agent <- random_discrete_agent(action_space_info[[\"n\"]])"
   ]
  },
  {
   "cell_type": "code",
   "execution_count": 14,
   "metadata": {},
   "outputs": [
    {
     "name": "stdout",
     "output_type": "stream",
     "text": [
      "[[1]]\n",
      "[1] -0.4617028\n",
      "\n",
      "[[2]]\n",
      "[1] -0.001472405\n",
      "\n",
      "[[1]]\n",
      "[1] -0.4941456\n",
      "\n",
      "[[2]]\n",
      "[1] 0.0007852553\n",
      "\n",
      "[[1]]\n",
      "[1] -0.5091516\n",
      "\n",
      "[[2]]\n",
      "[1] 0.0008984122\n",
      "\n",
      "[[1]]\n",
      "[1] -0.4069091\n",
      "\n",
      "[[2]]\n",
      "[1] -0.001870572\n",
      "\n",
      "[[1]]\n",
      "[1] -0.5272334\n",
      "\n",
      "[[2]]\n",
      "[1] 0.001035021\n",
      "\n",
      "[[1]]\n",
      "[1] -0.555347\n",
      "\n",
      "[[2]]\n",
      "[1] 0.00124706\n",
      "\n",
      "[[1]]\n",
      "[1] -0.4683965\n",
      "\n",
      "[[2]]\n",
      "[1] 0.0005922543\n",
      "\n",
      "[[1]]\n",
      "[1] -0.4048588\n",
      "\n",
      "[[2]]\n",
      "[1] -0.0008780037\n",
      "\n",
      "[[1]]\n",
      "[1] -0.5292721\n",
      "\n",
      "[[2]]\n",
      "[1] 4.286929e-05\n",
      "\n",
      "[[1]]\n",
      "[1] -0.4935049\n",
      "\n",
      "[[2]]\n",
      "[1] -0.001234618\n",
      "\n",
      "[[1]]\n",
      "[1] -0.5283975\n",
      "\n",
      "[[2]]\n",
      "[1] -0.0009712953\n",
      "\n",
      "[[1]]\n",
      "[1] -0.5539533\n",
      "\n",
      "[[2]]\n",
      "[1] -0.0007784704\n",
      "\n",
      "[[1]]\n",
      "[1] -0.4370462\n",
      "\n",
      "[[2]]\n",
      "[1] 0.0003607406\n",
      "\n",
      "[[1]]\n",
      "[1] -0.5774706\n",
      "\n",
      "[[2]]\n",
      "[1] 0.001412736\n",
      "\n",
      "[[1]]\n",
      "[1] -0.4300468\n",
      "\n",
      "[[2]]\n",
      "[1] -0.0006974898\n",
      "\n",
      "[[1]]\n",
      "[1] -0.5730237\n",
      "\n",
      "[[2]]\n",
      "[1] 0.0003720898\n",
      "\n",
      "[[1]]\n",
      "[1] -0.4909376\n",
      "\n",
      "[[2]]\n",
      "[1] -0.001253925\n",
      "\n",
      "[[1]]\n",
      "[1] -0.577002\n",
      "\n",
      "[[2]]\n",
      "[1] -0.0006056722\n",
      "\n",
      "[[1]]\n",
      "[1] -0.4218426\n",
      "\n",
      "[[2]]\n",
      "[1] 0.0002504181\n",
      "\n",
      "[[1]]\n",
      "[1] -0.598202\n",
      "\n",
      "[[2]]\n",
      "[1] 0.0005589518\n",
      "\n"
     ]
    }
   ],
   "source": [
    "episode_range <- 20\n",
    "max_steps <- 200\n",
    "reward <- 0\n",
    "done <- FALSE\n",
    "\n",
    "for (i in 1:episode_range){\n",
    "    observation <- env_reset(client, instance_id)\n",
    "    for(i in max_steps){\n",
    "        action <- env_action_space_sample(client, instance_id)\n",
    "        results <- env_step(client, instance_id, action, render = TRUE)\n",
    "        print(results$observation)\n",
    "        if (results[[\"done\"]]) break\n",
    "    }\n",
    "}"
   ]
  }
 ],
 "metadata": {
  "kernelspec": {
   "display_name": "R",
   "language": "R",
   "name": "ir"
  },
  "language_info": {
   "codemirror_mode": "r",
   "file_extension": ".r",
   "mimetype": "text/x-r-source",
   "name": "R",
   "pygments_lexer": "r",
   "version": "3.3.2"
  }
 },
 "nbformat": 4,
 "nbformat_minor": 2
}
