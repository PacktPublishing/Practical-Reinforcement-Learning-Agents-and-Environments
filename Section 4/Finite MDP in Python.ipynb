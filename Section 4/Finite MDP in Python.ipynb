{
 "cells": [
  {
   "cell_type": "markdown",
   "metadata": {},
   "source": [
    "## Finite MDP in Python\n",
    "**Author:** Lauren Washington"
   ]
  },
  {
   "cell_type": "code",
   "execution_count": 16,
   "metadata": {
    "collapsed": true
   },
   "outputs": [],
   "source": [
    "import gym\n",
    "import pandas as pd\n",
    "import numpy as np\n",
    "import matplotlib.pyplot as plt\n",
    "import mdptoolbox\n",
    "import mdptoolbox.example\n",
    "from gym import wrappers\n",
    "\n",
    "%matplotlib inline"
   ]
  },
  {
   "cell_type": "markdown",
   "metadata": {},
   "source": [
    "## Environment Exploration"
   ]
  },
  {
   "cell_type": "code",
   "execution_count": 17,
   "metadata": {},
   "outputs": [],
   "source": [
    "#create gym evironment\n",
    "env = gym.envs.make(\"CartPole-v0\")"
   ]
  },
  {
   "cell_type": "code",
   "execution_count": 18,
   "metadata": {},
   "outputs": [
    {
     "data": {
      "text/plain": [
       "200"
      ]
     },
     "execution_count": 18,
     "metadata": {},
     "output_type": "execute_result"
    }
   ],
   "source": [
    "env.spec.max_episode_steps"
   ]
  },
  {
   "cell_type": "code",
   "execution_count": 19,
   "metadata": {},
   "outputs": [
    {
     "data": {
      "text/plain": [
       "200"
      ]
     },
     "execution_count": 19,
     "metadata": {},
     "output_type": "execute_result"
    }
   ],
   "source": [
    "env.spec.timestep_limit"
   ]
  },
  {
   "cell_type": "code",
   "execution_count": 20,
   "metadata": {},
   "outputs": [
    {
     "data": {
      "text/plain": [
       "2"
      ]
     },
     "execution_count": 20,
     "metadata": {},
     "output_type": "execute_result"
    }
   ],
   "source": [
    "env.action_space.n"
   ]
  },
  {
   "cell_type": "code",
   "execution_count": 21,
   "metadata": {},
   "outputs": [
    {
     "data": {
      "text/plain": [
       "Box(4,)"
      ]
     },
     "execution_count": 21,
     "metadata": {},
     "output_type": "execute_result"
    }
   ],
   "source": [
    "env.observation_space"
   ]
  },
  {
   "cell_type": "markdown",
   "metadata": {},
   "source": [
    "## Model Exploration"
   ]
  },
  {
   "cell_type": "markdown",
   "metadata": {},
   "source": [
    "A MDP solved using the finite-horizon backwards induction algorithm.\n",
    "\n",
    "Parameters:\t\n",
    "\n",
    "**transitions (array)** – Transition probability matrices. See the documentation for the MDP class for details.  \n",
    "**reward (array**) – Reward matrices or vectors. See the documentation for the MDP class for details.  \n",
    "**discount (float)** – Discount factor. See the documentation for the MDP class for details.  \n",
    "**N (int)** – Number of periods. Must be greater than 0.  \n",
    "**h (array, optional)** – Terminal reward. Default: a vector of zeros.  \n",
    "**skip_check (bool)** – By default we run a check on the transitions and rewards arguments to make sure they describe a valid MDP. You can set this argument to True in order to skip this check.  \n",
    "**Attributes (Data) –**  \n",
    "————— –  \n",
    "**V (array)** – Optimal value function. Shape = (S, N+1). V[:, n] = optimal value function at stage n with stage in {0, 1...N-1}. V[:, N] value function for terminal stage.  \n",
    "**policy (array)** – Optimal policy. policy[:, n] = optimal policy at stage n with stage in {0, 1...N}. policy[:, N] = policy for stage N.  \n",
    "**time (float)** – used CPU time  "
   ]
  },
  {
   "cell_type": "code",
   "execution_count": 22,
   "metadata": {},
   "outputs": [
    {
     "name": "stdout",
     "output_type": "stream",
     "text": [
      "[[[ 0.1  0.9  0.   0. ]\n",
      "  [ 0.1  0.   0.9  0. ]\n",
      "  [ 0.1  0.   0.   0.9]\n",
      "  [ 0.1  0.   0.   0.9]]\n",
      "\n",
      " [[ 1.   0.   0.   0. ]\n",
      "  [ 1.   0.   0.   0. ]\n",
      "  [ 1.   0.   0.   0. ]\n",
      "  [ 1.   0.   0.   0. ]]]\n",
      "[[ 0.  0.]\n",
      " [ 0.  1.]\n",
      " [ 0.  1.]\n",
      " [ 2.  2.]]\n"
     ]
    }
   ],
   "source": [
    "#P = transtion\n",
    "#if agent tries to move left in s1 there is a 10% probability \n",
    "#they will stay in s1 and 90% probability they will move to s2\n",
    "#Agent is in       S1   S2    S3    S4\n",
    "#left = array ([[  0.1   0.9   0.   0. ]\n",
    "#                [ 0.1   0.    0.9  0. ]\n",
    "#                [ 0.1   0.    0.   0.9]\n",
    "#                [ 0.1   0.    0.   0.9]])\n",
    "\n",
    "#Agent is in      S1    S2   S3  S4\n",
    "#right =array ([[ 1.   0.   0.   0. ]\n",
    "#               [ 1.   0.   0.   0. ]\n",
    "#               [ 1.   0.   0.   0. ]\n",
    "#               [ 1.   0.   0.   0. ]])\n",
    "\n",
    "#R = reward\n",
    "#enter S1 from anywhere get a reward of 0 \n",
    "#S2 and S3 reward of 1 and S4 reward of 2\n",
    "#[[ 0.  0.]\n",
    "#[ 0.  1.]\n",
    "#[ 0.  1.]\n",
    "#[ 2.  2.]]\n",
    "P, R = mdptoolbox.example.forest(4,2)\n",
    "print(P)\n",
    "print(R)"
   ]
  },
  {
   "cell_type": "code",
   "execution_count": 23,
   "metadata": {
    "collapsed": true
   },
   "outputs": [],
   "source": [
    "fh = mdptoolbox.mdp.FiniteHorizon(P, R, 0.9, 3)\n",
    "fh.run()"
   ]
  },
  {
   "cell_type": "code",
   "execution_count": 24,
   "metadata": {},
   "outputs": [
    {
     "name": "stdout",
     "output_type": "stream",
     "text": [
      "[[ 0.8829  0.81    0.      0.    ]\n",
      " [ 1.729   1.      1.      0.    ]\n",
      " [ 3.0051  1.62    1.      0.    ]\n",
      " [ 5.0051  3.62    2.      0.    ]]\n",
      "[[0 0 0]\n",
      " [1 1 1]\n",
      " [0 0 1]\n",
      " [0 0 0]]\n"
     ]
    }
   ],
   "source": [
    "print(fh.V)\n",
    "print(fh.policy)"
   ]
  }
 ],
 "metadata": {
  "kernelspec": {
   "display_name": "Python 2",
   "language": "python",
   "name": "python2"
  },
  "language_info": {
   "codemirror_mode": {
    "name": "ipython",
    "version": 2
   },
   "file_extension": ".py",
   "mimetype": "text/x-python",
   "name": "python",
   "nbconvert_exporter": "python",
   "pygments_lexer": "ipython2",
   "version": "2.7.11"
  }
 },
 "nbformat": 4,
 "nbformat_minor": 2
}
