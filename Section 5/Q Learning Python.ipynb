{
 "cells": [
  {
   "cell_type": "markdown",
   "metadata": {},
   "source": [
    "## QLearning in Python\n",
    "**Author:** Lauren Washington"
   ]
  },
  {
   "cell_type": "code",
   "execution_count": 1,
   "metadata": {
    "collapsed": true
   },
   "outputs": [],
   "source": [
    "import gym\n",
    "import pandas as pd\n",
    "import numpy as np\n",
    "import matplotlib.pyplot as plt\n",
    "import mdptoolbox\n",
    "import mdptoolbox.example\n",
    "\n",
    "%matplotlib inline"
   ]
  },
  {
   "cell_type": "code",
   "execution_count": 2,
   "metadata": {
    "collapsed": true
   },
   "outputs": [],
   "source": [
    "#create CartPole Env\n",
    "env = gym.envs.make(\"Acrobot-v1\")"
   ]
  },
  {
   "cell_type": "code",
   "execution_count": 3,
   "metadata": {},
   "outputs": [
    {
     "data": {
      "text/plain": [
       "3"
      ]
     },
     "execution_count": 3,
     "metadata": {},
     "output_type": "execute_result"
    }
   ],
   "source": [
    "env.action_space.n"
   ]
  },
  {
   "cell_type": "code",
   "execution_count": 4,
   "metadata": {},
   "outputs": [
    {
     "data": {
      "text/plain": [
       "Box(6,)"
      ]
     },
     "execution_count": 4,
     "metadata": {},
     "output_type": "execute_result"
    }
   ],
   "source": [
    "env.observation_space"
   ]
  },
  {
   "cell_type": "markdown",
   "metadata": {},
   "source": [
    "Parameters\n",
    "    ----------\n",
    "    transitions : array\n",
    "        Transition probability matrices. See the documentation for the ``MDP``\n",
    "        class for details.\n",
    "    reward : array\n",
    "        Reward matrices or vectors. See the documentation for the ``MDP`` class\n",
    "        for details.\n",
    "    discount : float\n",
    "        Discount factor. See the documentation for the ``MDP`` class for\n",
    "        details.\n",
    "    n_iter : int, optional\n",
    "        Number of iterations to execute. This is ignored unless it is an\n",
    "        integer greater than the default value. Defaut: 10,000.\n",
    "    skip_check : bool\n",
    "        By default we run a check on the ``transitions`` and ``rewards``\n",
    "        arguments to make sure they describe a valid MDP. You can set this\n",
    "        argument to True in order to skip this check.\n",
    "\n",
    "    Data Attributes\n",
    "    ---------------\n",
    "    Q : array\n",
    "        learned Q matrix (SxA)\n",
    "    V : tuple\n",
    "        learned value function (S).\n",
    "    policy : tuple\n",
    "        learned optimal policy (S).\n",
    "    mean_discrepancy : array\n",
    "        Vector of V discrepancy mean over 100 iterations. Then the length of\n",
    "        this vector for the default value of N is 100 (N/100).\n"
   ]
  },
  {
   "cell_type": "code",
   "execution_count": 8,
   "metadata": {
    "collapsed": true
   },
   "outputs": [],
   "source": [
    "def q_learning(n_s, n_obs, discount_factor):\n",
    "    #create transition probability matrix and reward matrix \n",
    "    \n",
    "    global P, R\n",
    "    P, R = mdptoolbox.example.forest(S = 3)\n",
    "    \n",
    "    \n",
    "    #Q Learning using mdptoolbox\n",
    "    #parameters : transiton probability matrix,\n",
    "    #rewards matrix ,discount factor\n",
    "    global ql\n",
    "    ql = mdptoolbox.mdp.QLearning(P, R, 0.96)\n",
    "    \n",
    "    #run the policy iteration\n",
    "    ql.run()\n",
    "    \n",
    "    global policy, Q, V\n",
    "    policy = ql.policy\n",
    "    Q = ql.Q\n",
    "    V = ql.V\n",
    "    q_md = ql.mean_discrepancy\n",
    "    print(Q)\n",
    "    print(V)\n",
    "    print(policy)\n",
    "    \n",
    "    return policy, Q"
   ]
  },
  {
   "cell_type": "code",
   "execution_count": 9,
   "metadata": {},
   "outputs": [
    {
     "name": "stdout",
     "output_type": "stream",
     "text": [
      "[[ 65.52614818  41.04257717]\n",
      " [ 69.7994698   37.90800094]\n",
      " [ 74.4983169   61.33947322]]\n",
      "(65.52614817824899, 69.79946979663096, 74.49831689873832)\n",
      "(0, 0, 0)\n"
     ]
    }
   ],
   "source": [
    "rl_models = [\n",
    "    ('Q Learning', q_learning(3,6,0.96))\n",
    " ]"
   ]
  }
 ],
 "metadata": {
  "kernelspec": {
   "display_name": "Python 2",
   "language": "python",
   "name": "python2"
  },
  "language_info": {
   "codemirror_mode": {
    "name": "ipython",
    "version": 2
   },
   "file_extension": ".py",
   "mimetype": "text/x-python",
   "name": "python",
   "nbconvert_exporter": "python",
   "pygments_lexer": "ipython2",
   "version": "2.7.11"
  }
 },
 "nbformat": 4,
 "nbformat_minor": 2
}
