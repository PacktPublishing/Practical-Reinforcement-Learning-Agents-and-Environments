{
 "cells": [
  {
   "cell_type": "markdown",
   "metadata": {},
   "source": [
    "## Q Learning, TD(0) in R\n",
    "**Author:** Lauren Washington"
   ]
  },
  {
   "cell_type": "markdown",
   "metadata": {},
   "source": [
    "## Environment"
   ]
  },
  {
   "cell_type": "code",
   "execution_count": 38,
   "metadata": {},
   "outputs": [],
   "source": [
    "library(gym)\n",
    "#install.packages(\"MDPtoolbox\")\n",
    "library(MDPtoolbox)"
   ]
  },
  {
   "cell_type": "code",
   "execution_count": 39,
   "metadata": {
    "collapsed": true
   },
   "outputs": [],
   "source": [
    "#remote_base \"http://127.0.0.1:5000\"\n",
    "rl_env_setup_func <- function(remote_base, env_name) {\n",
    "#start server in terminal with $python gym_http_server.py\n",
    "    remote_base <<- \"http://127.0.0.1:5000\"\n",
    "    client <<- create_GymClient(remote_base)\n",
    "    #print(client)\n",
    "    #create instance\n",
    "    instance_id <<- env_create(client, env_name)\n",
    "    #print(instance_id)\n",
    "    #list the environments\n",
    "    list_envs <<- env_list_all(client)\n",
    "    #print(list_envs)\n",
    "    #set up your agent\n",
    "    action_space_info <- env_action_space_info(client, instance_id)\n",
    "    #print(action_space_info)\n",
    "    agent <<- random_discrete_agent(action_space_info)\n",
    "    agent <<- random_discrete_agent(action_space_info[[\"n\"]])\n",
    "    }"
   ]
  },
  {
   "cell_type": "code",
   "execution_count": 40,
   "metadata": {
    "collapsed": true
   },
   "outputs": [],
   "source": [
    "q_learning_func <- function(S , r1, r2, p) {\n",
    "    param <- mdp_example_forest(S = 3, r1 = 2, r2 = 0, p = 0.1)\n",
    "    P <<- param$P\n",
    "    R<<- param$R\n",
    "    print(P)\n",
    "    print(R)\n",
    "    q_learn = mdp_Q_learning(param$P, param$R, 0.9)\n",
    "    policy <<- q_learn$policy\n",
    "    print(policy)\n",
    "    Q <<- q_learn$Q\n",
    "    print(Q)\n",
    "}"
   ]
  },
  {
   "cell_type": "code",
   "execution_count": 41,
   "metadata": {
    "collapsed": true
   },
   "outputs": [],
   "source": [
    "td0_func <- function(P, R, discount_factor = 0.9, policy) {\n",
    "    td_0 = mdp_eval_policy_TD_0(P, R, 0.9, policy)\n",
    "    td_0_V <<- td_0$V\n",
    "    print(td_0_V)\n",
    "    mean_disc <<- td_0$mean_discrepancy\n",
    "    print(mean_disc)\n",
    "}"
   ]
  },
  {
   "cell_type": "code",
   "execution_count": 42,
   "metadata": {},
   "outputs": [
    {
     "name": "stdout",
     "output_type": "stream",
     "text": [
      ", , 1\n",
      "\n",
      "     [,1] [,2] [,3]\n",
      "[1,]  0.1  0.9  0.0\n",
      "[2,]  0.1  0.0  0.9\n",
      "[3,]  0.1  0.0  0.9\n",
      "\n",
      ", , 2\n",
      "\n",
      "     [,1] [,2] [,3]\n",
      "[1,]    1    0    0\n",
      "[2,]    1    0    0\n",
      "[3,]    1    0    0\n",
      "\n",
      "     R1 R2\n",
      "[1,]  0  0\n",
      "[2,]  0  1\n",
      "[3,]  2  0\n",
      "[1] 1 1 1\n",
      "         [,1]      [,2]\n",
      "[1,] 13.02927  8.221391\n",
      "[2,] 14.64401  9.388445\n",
      "[3,] 16.76295 11.494760\n",
      "[1] 12.98714 14.61173 16.55159\n",
      "  [1]          NA 0.141147853 0.113129801 0.078934025 0.058106908 0.047625758\n",
      "  [7] 0.046367676 0.037507267 0.029640785 0.032382333 0.035765126 0.029625023\n",
      " [13] 0.025508884 0.022817425 0.018618499 0.020898929 0.022704944 0.021064318\n",
      " [19] 0.017647353 0.019070779 0.017218804 0.015438812 0.016975246 0.014726928\n",
      " [25] 0.014182654 0.016886715 0.014086794 0.013779498 0.014588998 0.009402746\n",
      " [31] 0.015363636 0.013146793 0.012085830 0.012530021 0.012207213 0.010452342\n",
      " [37] 0.010245388 0.010897563 0.010757305 0.008067171 0.010906684 0.011431592\n",
      " [43] 0.008291524 0.009729519 0.009407433 0.008739813 0.010427022 0.009484296\n",
      " [49] 0.008063075 0.008029565 0.010379232 0.008668224 0.008446838 0.009365080\n",
      " [55] 0.007409504 0.009514395 0.007290100 0.008348826 0.007906661 0.007260652\n",
      " [61] 0.006384150 0.008576936 0.007616200 0.008699022 0.006208897 0.007022822\n",
      " [67] 0.007254808 0.006424973 0.006363330 0.006891760 0.006898775 0.006521703\n",
      " [73] 0.006227724 0.007030201 0.007510603 0.007246910 0.007313842 0.005595203\n",
      " [79] 0.005715024 0.006456971 0.007074663 0.007124888 0.006200481 0.005251243\n",
      " [85] 0.006432976 0.005380535 0.006405730 0.006714489 0.005132318 0.007418366\n",
      " [91] 0.006552675 0.006816113 0.006504784 0.005788150 0.006278597 0.004459917\n",
      " [97] 0.005592746 0.007048184 0.005743974 0.005890184\n"
     ]
    }
   ],
   "source": [
    "#run env_setup_func\n",
    "rl_env_setup_func(\"http://127.0.0.1:5000\", \"Pendulum-v0\")\n",
    "\n",
    "\n",
    "rl_models <- list(\n",
    "    q_learning_func(S = 3, r1 = 0, r2 = 1, p = 0.1),\n",
    "    td0_func(P, R, 0.9, policy)\n",
    " )"
   ]
  }
 ],
 "metadata": {
  "kernelspec": {
   "display_name": "R",
   "language": "R",
   "name": "ir"
  },
  "language_info": {
   "codemirror_mode": "r",
   "file_extension": ".r",
   "mimetype": "text/x-r-source",
   "name": "R",
   "pygments_lexer": "r",
   "version": "3.3.2"
  }
 },
 "nbformat": 4,
 "nbformat_minor": 2
}
